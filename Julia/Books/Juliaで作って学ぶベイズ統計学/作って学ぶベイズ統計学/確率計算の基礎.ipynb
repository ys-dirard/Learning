{
 "cells": [
  {
   "cell_type": "markdown",
   "metadata": {},
   "source": [
    "## 確率的試行のシミュレーション"
   ]
  },
  {
   "cell_type": "markdown",
   "metadata": {},
   "source": [
    "### サンプリング"
   ]
  },
  {
   "cell_type": "code",
   "execution_count": 1,
   "metadata": {},
   "outputs": [],
   "source": [
    "using Distributions"
   ]
  },
  {
   "cell_type": "code",
   "execution_count": 2,
   "metadata": {},
   "outputs": [
    {
     "data": {
      "text/plain": [
       "10-element Vector{Bool}:\n",
       " 1\n",
       " 1\n",
       " 0\n",
       " 1\n",
       " 1\n",
       " 1\n",
       " 1\n",
       " 1\n",
       " 0\n",
       " 0"
      ]
     },
     "execution_count": 2,
     "metadata": {},
     "output_type": "execute_result"
    }
   ],
   "source": [
    "bern = Bernoulli(0.5)\n",
    "\n",
    "x = rand(bern, 10)"
   ]
  },
  {
   "cell_type": "code",
   "execution_count": 8,
   "metadata": {},
   "outputs": [
    {
     "data": {
      "text/plain": [
       "10-element Vector{Bool}:\n",
       " 0\n",
       " 1\n",
       " 0\n",
       " 1\n",
       " 1\n",
       " 1\n",
       " 1\n",
       " 1\n",
       " 1\n",
       " 1"
      ]
     },
     "execution_count": 8,
     "metadata": {},
     "output_type": "execute_result"
    }
   ],
   "source": [
    "bern = Bernoulli(0.9)\n",
    "\n",
    "x = rand(bern, 10)"
   ]
  },
  {
   "cell_type": "code",
   "execution_count": 9,
   "metadata": {},
   "outputs": [
    {
     "data": {
      "text/plain": [
       "10-element Vector{String}:\n",
       " \"A\"\n",
       " \"A\"\n",
       " \"A\"\n",
       " \"A\"\n",
       " \"A\"\n",
       " \"A\"\n",
       " \"A\"\n",
       " \"A\"\n",
       " \"A\"\n",
       " \"B\""
      ]
     },
     "execution_count": 9,
     "metadata": {},
     "output_type": "execute_result"
    }
   ],
   "source": [
    "bag(x::Bool) = x == 1 ? \"A\" : \"B\"\n",
    "ball(y::Bool) = y == 1 ? \"赤\" : \"白\"\n",
    "\n",
    "x = bag.(rand(bern, 10))"
   ]
  },
  {
   "cell_type": "code",
   "execution_count": 10,
   "metadata": {},
   "outputs": [
    {
     "data": {
      "text/plain": [
       "sample (generic function with 1 method)"
      ]
     },
     "execution_count": 10,
     "metadata": {},
     "output_type": "execute_result"
    }
   ],
   "source": [
    "function sample()\n",
    "    x = bag(rand(Bernoulli(1//2))) # 1//2 -> Rational\n",
    "    \n",
    "    μ = x==\"A\" ? 1//5 : 3//5\n",
    "    \n",
    "    y = ball(rand(Bernoulli(μ)))\n",
    "    \n",
    "    x, μ, y\n",
    "end"
   ]
  },
  {
   "cell_type": "code",
   "execution_count": 12,
   "metadata": {},
   "outputs": [
    {
     "name": "stdout",
     "output_type": "stream",
     "text": [
      "袋: A, 玉: 白\n",
      "袋: A, 玉: 白\n",
      "袋: B, 玉: 白\n",
      "袋: B, 玉: 白\n",
      "袋: B, 玉: 赤\n",
      "袋: B, 玉: 赤\n",
      "袋: A, 玉: 白\n",
      "袋: B, 玉: 白\n",
      "袋: B, 玉: 白\n",
      "袋: B, 玉: 赤\n"
     ]
    }
   ],
   "source": [
    "for _ in 1:10\n",
    "    x, μ, y = sample()\n",
    "    println(\"袋: $(x), 玉: $(y)\")\n",
    "end"
   ]
  },
  {
   "cell_type": "markdown",
   "metadata": {},
   "source": [
    "### 周辺確率の計算"
   ]
  },
  {
   "cell_type": "code",
   "execution_count": 16,
   "metadata": {},
   "outputs": [
    {
     "data": {
      "text/plain": [
       "0.38"
      ]
     },
     "execution_count": 16,
     "metadata": {},
     "output_type": "execute_result"
    }
   ],
   "source": [
    "maxiter = 100\n",
    "result = []\n",
    "\n",
    "for _ in 1:maxiter\n",
    "    x, μ, y = sample()\n",
    "    push!(result, y)\n",
    "end\n",
    "\n",
    "mean(result .== \"赤\")"
   ]
  },
  {
   "cell_type": "code",
   "execution_count": 17,
   "metadata": {},
   "outputs": [
    {
     "data": {
      "text/plain": [
       "0.399876"
      ]
     },
     "execution_count": 17,
     "metadata": {},
     "output_type": "execute_result"
    }
   ],
   "source": [
    "maxiter = 1_000_000\n",
    "result = []\n",
    "\n",
    "for _ in 1:maxiter\n",
    "    x, μ, y = sample()\n",
    "    push!(result, y)\n",
    "end\n",
    "\n",
    "mean(result .== \"赤\")"
   ]
  },
  {
   "cell_type": "markdown",
   "metadata": {},
   "source": [
    "### 条件付き確率の計算"
   ]
  },
  {
   "cell_type": "code",
   "execution_count": 24,
   "metadata": {},
   "outputs": [
    {
     "name": "stdout",
     "output_type": "stream",
     "text": [
      "p(x=A | y=赤) : approx = 0.24973332465282125 (exact=0.25)\n",
      "p(x=B | y=赤) : approx = 0.7502666753471787 (exact=0.75)\n"
     ]
    }
   ],
   "source": [
    "y_obs = \"赤\"\n",
    "\n",
    "maxiter = 1_000_000\n",
    "x_results = []\n",
    "\n",
    "for _ in 1:maxiter\n",
    "    x, μ, y = sample()\n",
    "    y == y_obs && push!(x_results, x) # y==y_obsの時のみx_resultsにpush\n",
    "end\n",
    "\n",
    "println(\"p(x=A | y=赤) : approx = $(mean(x_results .== \"A\")) (exact=$(1/4))\")\n",
    "println(\"p(x=B | y=赤) : approx = $(mean(x_results .== \"B\")) (exact=$(3/4))\")"
   ]
  },
  {
   "cell_type": "markdown",
   "metadata": {},
   "source": [
    "### 複数のデータがある場合"
   ]
  },
  {
   "cell_type": "code",
   "execution_count": 39,
   "metadata": {},
   "outputs": [
    {
     "data": {
      "text/plain": [
       "sample (generic function with 2 methods)"
      ]
     },
     "execution_count": 39,
     "metadata": {},
     "output_type": "execute_result"
    }
   ],
   "source": [
    "function sample(N)\n",
    "    x = bag(rand(Bernoulli(1//2)))\n",
    "    μ = x==\"A\" ? 1//5 : 3//5\n",
    "    \n",
    "    y = ball.(rand(Bernoulli(μ), N))\n",
    "    \n",
    "    x, μ, y\n",
    "end"
   ]
  },
  {
   "cell_type": "code",
   "execution_count": 60,
   "metadata": {},
   "outputs": [
    {
     "name": "stdout",
     "output_type": "stream",
     "text": [
      "acceptance rate = 0.088\n",
      "p(x=A | y_1=赤, y_2=赤, y_3=白) : approx = 0.18295454545454545 (exact=0.18181818181818182)\n",
      "p(x=B | y_1=赤, y_2=赤, y_3=白) : approx = 0.8170454545454545 (exact=0.8181818181818182)\n"
     ]
    }
   ],
   "source": [
    "maxiter = 10_000\n",
    "y_obs = [\"赤\", \"赤\", \"白\"]\n",
    "x_results = []\n",
    "\n",
    "for _ in 1:maxiter\n",
    "    x, μ, y = sample(3)\n",
    "    y == y_obs && push!(x_results, x)\n",
    "end\n",
    "\n",
    "println(\"acceptance rate = $(length(x_results)/maxiter)\")\n",
    "println(\"p(x=A | y_1=赤, y_2=赤, y_3=白) : approx = $(mean(x_results .== \"A\")) (exact=$(2/11))\")\n",
    "println(\"p(x=B | y_1=赤, y_2=赤, y_3=白) : approx = $(mean(x_results .== \"B\")) (exact=$(9/11))\")"
   ]
  },
  {
   "cell_type": "code",
   "execution_count": 53,
   "metadata": {},
   "outputs": [
    {
     "name": "stdout",
     "output_type": "stream",
     "text": [
      "acceptance rate = 0.2684\n",
      "p(x=A | y_1=赤, y_2=赤, y_3=白) : approx = 0.17883755588673622 (exact=0.18181818181818182)\n",
      "p(x=B | y_1=赤, y_2=赤, y_3=白) : approx = 0.8211624441132638 (exact=0.8181818181818182)\n"
     ]
    }
   ],
   "source": [
    "maxiter = 10_000\n",
    "y_obs = [\"赤\", \"赤\", \"白\"]\n",
    "x_results = []\n",
    "\n",
    "for _ in 1:maxiter\n",
    "    x, μ, y = sample(3)\n",
    "    # 赤玉の個数が一致する場合に受容 -> 順番に関係なくなるので、受容率が上がる -> 計算効率up\n",
    "    sum(y .== \"赤\") == sum(y_obs .== \"赤\") && push!(x_results, x)\n",
    "end\n",
    "\n",
    "println(\"acceptance rate = $(length(x_results)/maxiter)\")\n",
    "println(\"p(x=A | y_1=赤, y_2=赤, y_3=白) : approx = $(mean(x_results .== \"A\")) (exact=$(2/11))\")\n",
    "println(\"p(x=B | y_1=赤, y_2=赤, y_3=白) : approx = $(mean(x_results .== \"B\")) (exact=$(9/11))\")"
   ]
  },
  {
   "cell_type": "code",
   "execution_count": null,
   "metadata": {},
   "outputs": [],
   "source": []
  }
 ],
 "metadata": {
  "kernelspec": {
   "display_name": "Julia 1.6.4",
   "language": "julia",
   "name": "julia-1.6"
  },
  "language_info": {
   "file_extension": ".jl",
   "mimetype": "application/julia",
   "name": "julia",
   "version": "1.6.4"
  }
 },
 "nbformat": 4,
 "nbformat_minor": 2
}
